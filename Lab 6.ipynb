{
  "nbformat": 4,
  "nbformat_minor": 0,
  "metadata": {
    "colab": {
      "provenance": []
    },
    "kernelspec": {
      "name": "python3",
      "display_name": "Python 3"
    },
    "language_info": {
      "name": "python"
    }
  },
  "cells": [
    {
      "cell_type": "code",
      "execution_count": null,
      "metadata": {
        "collapsed": true,
        "id": "EbGuyvY0gdIl"
      },
      "outputs": [],
      "source": [
        "import pandas as pd\n",
        "\n",
        "# Загружаем датасет\n",
        "df = pd.read_csv('students.csv')\n",
        "\n",
        "# Вывод первых 5 строк\n",
        "print(\"Первые пять строк:\")\n",
        "print(df.head())\n",
        "\n",
        "# Информация о данных\n",
        "print(\"\\nИнформация о данных:\")\n",
        "print(df.info())\n",
        "\n",
        "# Статистика по данным\n",
        "print(\"\\nСтатистическая сводка:\")\n",
        "print(df.describe())\n",
        "\n",
        "# Средний балл студентов\n",
        "mean_score = df['Score'].mean()\n",
        "print(f\"\\nСредний балл студентов: {mean_score:.2f}\")\n",
        "\n",
        "# Количество студентов в каждой группе\n",
        "group_counts = df['Group'].value_counts()\n",
        "print(\"\\nКоличество студентов в каждой группе:\")\n",
        "print(group_counts)"
      ]
    },
    {
      "cell_type": "code",
      "source": [
        "import pandas as pd\n",
        "\n",
        "# Читаем файл\n",
        "df = pd.read_csv('students.csv')\n",
        "\n",
        "# Фильтр: выбираем студентов с баллом выше 80\n",
        "filtered_students = df[df['Score'] > 80]\n",
        "\n",
        "# Сортируем по убыванию балла\n",
        "sorted_students = filtered_students.sort_values(by='Score', ascending=False)\n",
        "\n",
        "# Выводим отсортированных студентов\n",
        "print(sorted_students)\n",
        "\n",
        "# Находим самого молодого и самого пожилого студента\n",
        "youngest_student_age = sorted_students['Age'].min()\n",
        "oldest_student_age = sorted_students['Age'].max()\n",
        "\n",
        "print(f'\\nСамый молодой студент: {youngest_student_age} лет.')\n",
        "print(f'Самый старший студент: {oldest_student_age} лет.')"
      ],
      "metadata": {
        "id": "0RI05JjrhGJK"
      },
      "execution_count": null,
      "outputs": []
    },
    {
      "cell_type": "code",
      "source": [
        "import pandas as pd\n",
        "\n",
        "# Чтение файла\n",
        "df = pd.read_csv('students.csv')\n",
        "\n",
        "# Этап 1: проверка наличия пропусков\n",
        "print(\"Проверка пропусков:\")\n",
        "print(df.isnull().sum())\n",
        "\n",
        "# Этап 2: заполнение пропусков в столбце 'Score'\n",
        "if df['Score'].isnull().any():\n",
        "    average_score = df['Score'].mean()\n",
        "    df['Score'].fillna(value=average_score, inplace=True)\n",
        "\n",
        "# Этап 3: удаление пропусков в столбце 'Group'\n",
        "df.dropna(subset=['Group'], inplace=True)\n",
        "\n",
        "# Итоговая таблица\n",
        "print(\"\\nИтоговые данные после обработки пропусков:\\n\")\n",
        "print(df)"
      ],
      "metadata": {
        "id": "jpcwH6WyhGSB"
      },
      "execution_count": null,
      "outputs": []
    },
    {
      "cell_type": "code",
      "source": [
        "import pandas as pd\n",
        "\n",
        "# Читаем исходный датасет\n",
        "df = pd.read_csv('students.csv')\n",
        "\n",
        "# Этап 1: Создаем группу и рассчитываем агрегаты\n",
        "grouped_df = df.groupby('Group').agg(\n",
        "    Mean_Score=('Score', 'mean'),  # Среднее значение Score\n",
        "    Median_Age=('Age', 'median')   # Медиана возраста\n",
        ")\n",
        "\n",
        "# Этап 2: Выводим сгруппированные данные\n",
        "print(\"Агрегатные показатели по группам:\")\n",
        "print(grouped_df)\n",
        "\n",
        "# Этап 3: Добавляем столбец Passed\n",
        "def passed(score):\n",
        "    return 1 if score >= 60 else 0\n",
        "\n",
        "df['Passed'] = df['Score'].apply(passed)\n",
        "\n",
        "# Этап 4: Показываем итоговую таблицу\n",
        "print(\"\\nТаблица с новым столбцом Passed:\")\n",
        "print(df)"
      ],
      "metadata": {
        "id": "QgVNq8cAhGZb"
      },
      "execution_count": null,
      "outputs": []
    },
    {
      "cell_type": "code",
      "source": [
        "import pandas as pd\n",
        "import matplotlib.pyplot as plt\n",
        "import seaborn as sns\n",
        "\n",
        "# Загружаем данные\n",
        "df = pd.read_csv('students.csv')\n",
        "\n",
        "# Этап 1: построение гистограммы распределения баллов\n",
        "plt.figure(figsize=(8, 6))\n",
        "sns.histplot(data=df, x=\"Score\", bins=10, kde=True)\n",
        "plt.title(\"Распределение баллов\")\n",
        "plt.xlabel(\"Баллы\")\n",
        "plt.ylabel(\"Частота\")\n",
        "plt.show()\n",
        "\n",
        "# Этап 2: столбчатая диаграмма среднего балла по группам\n",
        "avg_scores_by_group = df.groupby('Group')['Score'].mean()\n",
        "\n",
        "plt.figure(figsize=(8, 6))\n",
        "sns.barplot(x=avg_scores_by_group.index, y=avg_scores_by_group.values)\n",
        "plt.title(\"Средний балл по группам\")\n",
        "plt.xlabel(\"Группа\")\n",
        "plt.ylabel(\"Средний балл\")\n",
        "plt.show()"
      ],
      "metadata": {
        "id": "W8QPZMiIhGgp"
      },
      "execution_count": null,
      "outputs": []
    }
  ]
}