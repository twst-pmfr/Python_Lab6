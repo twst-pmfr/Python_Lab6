{
  "nbformat": 4,
  "nbformat_minor": 0,
  "metadata": {
    "colab": {
      "provenance": []
    },
    "kernelspec": {
      "name": "python3",
      "display_name": "Python 3"
    },
    "language_info": {
      "name": "python"
    }
  },
  "cells": [
    {
      "cell_type": "code",
      "execution_count": 16,
      "metadata": {
        "collapsed": true,
        "id": "EbGuyvY0gdIl",
        "colab": {
          "base_uri": "https://localhost:8080/"
        },
        "outputId": "9a5b4a17-e0d0-48a3-a560-f88091f77653"
      },
      "outputs": [
        {
          "output_type": "stream",
          "name": "stdout",
          "text": [
            "Первые 5 строк датасета:\n",
            "       Name  Age Group  Score\n",
            "0     Alice   20     A     90\n",
            "1  Benjamin   19     B     56\n",
            "2    Carmen   21     C     78\n",
            "3    Daniel   22     D     82\n",
            "4     Elisa   23     E     66\n",
            "\n",
            "\n",
            "Информация о данных (info):\n",
            "<class 'pandas.core.frame.DataFrame'>\n",
            "RangeIndex: 7 entries, 0 to 6\n",
            "Data columns (total 4 columns):\n",
            " #   Column  Non-Null Count  Dtype \n",
            "---  ------  --------------  ----- \n",
            " 0   Name    7 non-null      object\n",
            " 1   Age     7 non-null      int64 \n",
            " 2   Group   7 non-null      object\n",
            " 3   Score   7 non-null      int64 \n",
            "dtypes: int64(2), object(2)\n",
            "memory usage: 356.0+ bytes\n",
            "None\n",
            "\n",
            "\n",
            "Статистика (describe):\n",
            "             Age      Score\n",
            "count   7.000000   7.000000\n",
            "mean   21.571429  79.285714\n",
            "std     1.718249  13.936933\n",
            "min    19.000000  56.000000\n",
            "25%    20.500000  72.000000\n",
            "50%    22.000000  82.000000\n",
            "75%    22.500000  89.000000\n",
            "max    24.000000  95.000000\n",
            "\n",
            "\n",
            "Средний балл студентов: 79.29\n",
            "\n",
            "Количество студентов в каждой группе:\n",
            "Group\n",
            "A    1\n",
            "B    1\n",
            "C    1\n",
            "D    1\n",
            "E    1\n",
            "F    1\n",
            "G    1\n",
            "Name: count, dtype: int64\n"
          ]
        }
      ],
      "source": [
        "import pandas as pd\n",
        "\n",
        "# 1. Загрузка данных\n",
        "df = pd.read_csv('/content/students.csv', sep=';')\n",
        "\n",
        "# 2. Вывод первых 5 строк\n",
        "print(\"Первые 5 строк датасета:\")\n",
        "print(df.head(5))\n",
        "print(\"\\n\")\n",
        "\n",
        "# 3. Информация о данных\n",
        "print(\"Информация о данных (info):\")\n",
        "print(df.info())\n",
        "print(\"\\n\")\n",
        "\n",
        "# 4. Статистика (describe)\n",
        "print(\"Статистика (describe):\")\n",
        "print(df.describe())\n",
        "print(\"\\n\")\n",
        "\n",
        "# 5. Средний балл студентов\n",
        "mean_score = df['Score'].mean()\n",
        "print(f\"Средний балл студентов: {mean_score:.2f}\")\n",
        "\n",
        "# 6. Количество студентов в каждой группе\n",
        "group_counts = df['Group'].value_counts()\n",
        "print(\"\\nКоличество студентов в каждой группе:\")\n",
        "print(group_counts)"
      ]
    },
    {
      "cell_type": "code",
      "source": [
        "import pandas as pd\n",
        "\n",
        "# Загрузка данных\n",
        "df = pd.read_csv('students.csv', sep=';')\n",
        "\n",
        "# 1. Выбор студентов с баллом выше 80\n",
        "high_score_students = df[df['Score'] > 80]\n",
        "print(\"Студенты с баллом выше 80:\")\n",
        "print(high_score_students)\n",
        "print(\"\\n\")\n",
        "\n",
        "# 2. Сортировка по убыванию балла\n",
        "sorted_students = high_score_students.sort_values(by='Score', ascending=False)\n",
        "print(\"Студенты с баллом выше 80, отсортированные по убыванию:\")\n",
        "print(sorted_students)\n",
        "print(\"\\n\")\n",
        "\n",
        "# 3. Самый старший и самый младший студент\n",
        "oldest_student = df.loc[df['Age'].idxmax()]\n",
        "youngest_student = df.loc[df['Age'].idxmin()]\n",
        "\n",
        "print(\"Самый старший студент:\")\n",
        "print(oldest_student)\n",
        "print(\"\\nСамый младший студент:\")\n",
        "print(youngest_student)"
      ],
      "metadata": {
        "id": "0RI05JjrhGJK",
        "colab": {
          "base_uri": "https://localhost:8080/"
        },
        "outputId": "a5533ac2-152f-4dd1-c85f-6588226cac01"
      },
      "execution_count": 17,
      "outputs": [
        {
          "output_type": "stream",
          "name": "stdout",
          "text": [
            "Студенты с баллом выше 80:\n",
            "        Name  Age Group  Score\n",
            "0      Alice   20     A     90\n",
            "3     Daniel   22     D     82\n",
            "5  Fredirick   24     F     88\n",
            "6    Gabriel   22     G     95\n",
            "\n",
            "\n",
            "Студенты с баллом выше 80, отсортированные по убыванию:\n",
            "        Name  Age Group  Score\n",
            "6    Gabriel   22     G     95\n",
            "0      Alice   20     A     90\n",
            "5  Fredirick   24     F     88\n",
            "3     Daniel   22     D     82\n",
            "\n",
            "\n",
            "Самый старший студент:\n",
            "Name     Fredirick\n",
            "Age             24\n",
            "Group            F\n",
            "Score           88\n",
            "Name: 5, dtype: object\n",
            "\n",
            "Самый младший студент:\n",
            "Name     Benjamin\n",
            "Age            19\n",
            "Group           B\n",
            "Score          56\n",
            "Name: 1, dtype: object\n"
          ]
        }
      ]
    },
    {
      "cell_type": "code",
      "source": [
        "import pandas as pd\n",
        "\n",
        "# Загрузка данных\n",
        "df = pd.read_csv('students.csv', sep=';')\n",
        "\n",
        "# 1. Проверка пропусков в данных\n",
        "print(\"Проверка пропусков в данных:\")\n",
        "print(df.isnull().sum())\n",
        "print(\"\\n\")\n",
        "\n",
        "# 2. Заполнение пропусков в столбце Score средним значением\n",
        "# (Даже если в текущих данных нет пропусков, код универсальный)\n",
        "mean_score = df['Score'].mean()\n",
        "df['Score'] = df['Score'].fillna(mean_score)\n",
        "print(\"Данные после заполнения пропусков в Score:\")\n",
        "print(df)\n",
        "print(\"\\n\")\n",
        "\n",
        "# 3. Удаление строк с пропусками в столбце Group\n",
        "df = df.dropna(subset=['Group'])\n",
        "print(\"Данные после удаления строк с пропусками в Group:\")\n",
        "print(df)"
      ],
      "metadata": {
        "id": "jpcwH6WyhGSB",
        "colab": {
          "base_uri": "https://localhost:8080/"
        },
        "outputId": "d6a5045a-2511-4937-bd94-e8c0931191e5"
      },
      "execution_count": 18,
      "outputs": [
        {
          "output_type": "stream",
          "name": "stdout",
          "text": [
            "Проверка пропусков в данных:\n",
            "Name     0\n",
            "Age      0\n",
            "Group    0\n",
            "Score    0\n",
            "dtype: int64\n",
            "\n",
            "\n",
            "Данные после заполнения пропусков в Score:\n",
            "        Name  Age Group  Score\n",
            "0      Alice   20     A     90\n",
            "1   Benjamin   19     B     56\n",
            "2     Carmen   21     C     78\n",
            "3     Daniel   22     D     82\n",
            "4      Elisa   23     E     66\n",
            "5  Fredirick   24     F     88\n",
            "6    Gabriel   22     G     95\n",
            "\n",
            "\n",
            "Данные после удаления строк с пропусками в Group:\n",
            "        Name  Age Group  Score\n",
            "0      Alice   20     A     90\n",
            "1   Benjamin   19     B     56\n",
            "2     Carmen   21     C     78\n",
            "3     Daniel   22     D     82\n",
            "4      Elisa   23     E     66\n",
            "5  Fredirick   24     F     88\n",
            "6    Gabriel   22     G     95\n"
          ]
        }
      ]
    },
    {
      "cell_type": "code",
      "source": [
        "import pandas as pd\n",
        "\n",
        "# Загрузка данных\n",
        "df = pd.read_csv('students.csv', sep=';')\n",
        "\n",
        "# 1. Группировка по группам и расчет среднего балла и медианного возраста\n",
        "group_stats = df.groupby('Group').agg({\n",
        "    'Score': 'mean',\n",
        "    'Age': 'median'\n",
        "}).rename(columns={\n",
        "    'Score': 'Average Score',\n",
        "    'Age': 'Median Age'\n",
        "})\n",
        "\n",
        "print(\"Статистика по группам:\")\n",
        "print(group_stats)\n",
        "print(\"\\n\")\n",
        "\n",
        "# 2. Добавление столбца Passed (1 если Score >= 60, иначе 0)\n",
        "df['Passed'] = df['Score'].apply(lambda x: 1 if x >= 60 else 0)\n",
        "\n",
        "print(\"Данные с добавленным столбцом Passed:\")\n",
        "print(df)"
      ],
      "metadata": {
        "id": "QgVNq8cAhGZb",
        "colab": {
          "base_uri": "https://localhost:8080/"
        },
        "outputId": "cc52bdbf-6331-469c-ee4f-10021c2b6271"
      },
      "execution_count": 19,
      "outputs": [
        {
          "output_type": "stream",
          "name": "stdout",
          "text": [
            "Статистика по группам:\n",
            "       Average Score  Median Age\n",
            "Group                           \n",
            "A               90.0        20.0\n",
            "B               56.0        19.0\n",
            "C               78.0        21.0\n",
            "D               82.0        22.0\n",
            "E               66.0        23.0\n",
            "F               88.0        24.0\n",
            "G               95.0        22.0\n",
            "\n",
            "\n",
            "Данные с добавленным столбцом Passed:\n",
            "        Name  Age Group  Score  Passed\n",
            "0      Alice   20     A     90       1\n",
            "1   Benjamin   19     B     56       0\n",
            "2     Carmen   21     C     78       1\n",
            "3     Daniel   22     D     82       1\n",
            "4      Elisa   23     E     66       1\n",
            "5  Fredirick   24     F     88       1\n",
            "6    Gabriel   22     G     95       1\n"
          ]
        }
      ]
    },
    {
      "cell_type": "code",
      "source": [
        "import pandas as pd\n",
        "import matplotlib.pyplot as plt\n",
        "\n",
        "# Загрузка данных\n",
        "df = pd.read_csv('students.csv', sep=';')\n",
        "\n",
        "# Вычисляем средний балл по группам\n",
        "group_avg = df.groupby('Group')['Score'].mean()\n",
        "\n",
        "# Создаем фигуру\n",
        "plt.figure(figsize=(10, 6))\n",
        "\n",
        "# Создаем столбчатую диаграмму\n",
        "bars = plt.bar(\n",
        "    x=group_avg.index,\n",
        "    height=group_avg.values,\n",
        "    color=['#4C72B0', '#55A868', '#C44E52', '#8172B2', '#CCB974', '#64B5CD', '#4C8B8B'],\n",
        "    edgecolor='black',\n",
        "    alpha=0.7\n",
        ")\n",
        "\n",
        "# Добавляем значения на столбцы\n",
        "for bar in bars:\n",
        "    height = bar.get_height()\n",
        "    plt.text(\n",
        "        bar.get_x() + bar.get_width()/2,\n",
        "        height,\n",
        "        f'{height:.1f}',\n",
        "        ha='center',\n",
        "        va='bottom',\n",
        "        fontsize=10\n",
        "    )\n",
        "\n",
        "# Настраиваем оформление\n",
        "plt.title('Средний балл по учебным группам', fontsize=14)\n",
        "plt.xlabel('Учебная группа', fontsize=12)\n",
        "plt.ylabel('Средний балл', fontsize=12)\n",
        "plt.ylim(0, 100)\n",
        "\n",
        "# Настраиваем сетку и разметку\n",
        "plt.grid(axis='y', linestyle='--', alpha=0.4)\n",
        "plt.xticks(fontsize=10)\n",
        "plt.yticks(fontsize=10)\n",
        "\n",
        "# Улучшаем компоновку\n",
        "plt.tight_layout()\n",
        "\n",
        "# Показываем график\n",
        "plt.show()"
      ],
      "metadata": {
        "id": "W8QPZMiIhGgp",
        "colab": {
          "base_uri": "https://localhost:8080/",
          "height": 607
        },
        "outputId": "ef7cdeca-3850-43b0-9a63-ed83bb70fe42"
      },
      "execution_count": 23,
      "outputs": [
        {
          "output_type": "display_data",
          "data": {
            "text/plain": [
              "<Figure size 1000x600 with 1 Axes>"
            ],
            "image/png": "[encoded data removed]"
          },
          "metadata": {}
        }
      ]
    }
  ]
}